{
  "nbformat": 4,
  "nbformat_minor": 0,
  "metadata": {
    "colab": {
      "name": "Resnet_50.ipynb",
      "provenance": [],
      "collapsed_sections": []
    },
    "kernelspec": {
      "name": "python3",
      "display_name": "Python 3"
    },
    "accelerator": "GPU"
  },
  "cells": [
    {
      "cell_type": "markdown",
      "metadata": {
        "id": "kxH4qDIfM9K7"
      },
      "source": [
        "**Mounting Google Drive**"
      ]
    },
    {
      "cell_type": "code",
      "metadata": {
        "id": "zCEDRHHqtnzM",
        "colab": {
          "base_uri": "https://localhost:8080/",
          "height": 183
        },
        "outputId": "7d6870fd-ff1b-408e-ad75-c4056eb63c0e"
      },
      "source": [
        "from google.colab import drive\n",
        "drive.mount('/content/drive')"
      ],
      "execution_count": null,
      "outputs": [
        {
          "output_type": "stream",
          "text": [
            "Go to this URL in a browser: https://accounts.google.com/o/oauth2/auth?client_id=947318989803-6bn6qk8qdgf4n4g3pfee6491hc0brc4i.apps.googleusercontent.com&redirect_uri=urn%3Aietf%3Awg%3Aoauth%3A2.0%3Aoob&scope=email%20https%3A%2F%2Fwww.googleapis.com%2Fauth%2Fdocs.test%20https%3A%2F%2Fwww.googleapis.com%2Fauth%2Fdrive%20https%3A%2F%2Fwww.googleapis.com%2Fauth%2Fdrive.photos.readonly%20https%3A%2F%2Fwww.googleapis.com%2Fauth%2Fpeopleapi.readonly&response_type=code\n",
            "\n",
            "Enter your authorization code:\n",
            "··········\n",
            "Mounted at /content/drive\n"
          ],
          "name": "stdout"
        }
      ]
    },
    {
      "cell_type": "markdown",
      "metadata": {
        "id": "Bq0WJ0WENJ3y"
      },
      "source": [
        "**DataGen for Train and Valid**"
      ]
    },
    {
      "cell_type": "code",
      "metadata": {
        "id": "KVvWJGkKvea4",
        "colab": {
          "base_uri": "https://localhost:8080/",
          "height": 32
        },
        "outputId": "00119a5f-6e6b-4955-8f5c-6e3ac028bc94"
      },
      "source": [
        "import cv2\n",
        "import random\n",
        "\n",
        "SIZE = 512\n",
        "\n",
        "def data_gen(img_folder, mask_folder, batch_size):\n",
        "  c = 0\n",
        "  n = os.listdir(img_folder) #List of training images\n",
        "  random.shuffle(n)\n",
        "  \n",
        "  while (True):\n",
        "    img = np.zeros((batch_size, SIZE, SIZE, 3)).astype('float')\n",
        "    mask = np.zeros((batch_size, SIZE, SIZE, 1)).astype('float')\n",
        "\n",
        "    for i in range(c, c+batch_size): #initially from 0 to 16, c = 0. \n",
        "\n",
        "      train_img = cv2.imread(img_folder+'/'+n[i])/255.\n",
        "      train_img =  cv2.resize(train_img, (SIZE, SIZE))# Read an image from folder and resize\n",
        "      \n",
        "      img[i-c] = train_img #add to array - img[0], img[1], and so on.\n",
        "                                                   \n",
        "\n",
        "      train_mask = cv2.imread(mask_folder+'/'+n[i], cv2.IMREAD_GRAYSCALE)/255.\n",
        "      train_mask = cv2.resize(train_mask, (SIZE, SIZE))\n",
        "      train_mask = train_mask.reshape(SIZE, SIZE, 1) # Add extra dimension for parity with train_img size [SIZE * SIZE * 3]\n",
        "\n",
        "      mask[i-c] = train_mask\n",
        "\n",
        "    c+=batch_size\n",
        "    if(c+batch_size>=len(os.listdir(img_folder))):\n",
        "      c=0\n",
        "      random.shuffle(n)\n",
        "                  # print \"randomizing again\"\n",
        "    yield img, mask\n",
        "\n",
        "\n",
        "\n",
        "\n",
        "train_frame_path = '/content/drive/My Drive/mass_roads/train/mod_sat'\n",
        "train_mask_path = '/content/drive/My Drive/mass_roads/train/mod_map'\n",
        "\n",
        "val_frame_path = '/content/drive/My Drive/mass_roads/test/mod_sat'\n",
        "val_mask_path = '/content/drive/My Drive/mass_roads/test/mod_map'\n",
        "\n",
        "# Train the model\n",
        "train_gen = data_gen(train_frame_path,train_mask_path, batch_size = 8)\n",
        "val_gen = data_gen(val_frame_path,val_mask_path, batch_size = 8)\n",
        "\n",
        "print('Done')"
      ],
      "execution_count": null,
      "outputs": [
        {
          "output_type": "stream",
          "text": [
            "Done\n"
          ],
          "name": "stdout"
        }
      ]
    },
    {
      "cell_type": "markdown",
      "metadata": {
        "id": "0_497-MKF4cY"
      },
      "source": [
        "**Imports**"
      ]
    },
    {
      "cell_type": "code",
      "metadata": {
        "id": "DrFmNXN_fw1A",
        "colab": {
          "base_uri": "https://localhost:8080/",
          "height": 32
        },
        "outputId": "753c641c-925e-4164-d0fa-3c1cf4cb0aa7"
      },
      "source": [
        "import numpy as np \n",
        "import os\n",
        "import skimage.io as io\n",
        "import skimage.transform as trans\n",
        "import numpy as np\n",
        "from keras.models import *\n",
        "from keras.layers import *\n",
        "from keras.optimizers import *\n",
        "from keras.callbacks import ModelCheckpoint, LearningRateScheduler\n",
        "from keras import backend as keras\n"
      ],
      "execution_count": null,
      "outputs": [
        {
          "output_type": "stream",
          "text": [
            "Using TensorFlow backend.\n"
          ],
          "name": "stderr"
        }
      ]
    },
    {
      "cell_type": "markdown",
      "metadata": {
        "id": "z3kDIXJgQULR"
      },
      "source": [
        "**Parameters**"
      ]
    },
    {
      "cell_type": "code",
      "metadata": {
        "id": "AZm8fpXejhpF",
        "colab": {
          "base_uri": "https://localhost:8080/",
          "height": 65
        },
        "outputId": "5e9784a4-ab6f-4809-c2c4-09528cc0311c"
      },
      "source": [
        "NO_OF_TRAINING_IMAGES = len(os.listdir('/content/drive/My Drive/mass_roads/train/mod_sat'))\n",
        "NO_OF_VAL_IMAGES = len(os.listdir('/content/drive/My Drive/mass_roads/test/mod_sat'))\n",
        "\n",
        "NO_OF_EPOCHS = 99\n",
        "\n",
        "BATCH_SIZE = 16\n",
        "\n",
        "print(NO_OF_TRAINING_IMAGES)\n",
        "print(NO_OF_VAL_IMAGES)\n",
        "print(BATCH_SIZE)\n"
      ],
      "execution_count": null,
      "outputs": [
        {
          "output_type": "stream",
          "text": [
            "4432\n",
            "196\n",
            "16\n"
          ],
          "name": "stdout"
        }
      ]
    },
    {
      "cell_type": "code",
      "metadata": {
        "id": "192yUOOjwsSY"
      },
      "source": [
        "#ignore for now\n",
        "checkpoint = ModelCheckpoint(weights_path, monitor='METRIC_TO_MONITOR', \n",
        "                             verbose=1, save_best_only=True, mode='max')\n",
        "\n",
        "csv_logger = CSVLogger('./log.out', append=True, separator=';')\n",
        "\n",
        "earlystopping = EarlyStopping(monitor = 'METRIC_TO_MONITOR', verbose = 1,\n",
        "                              min_delta = 0.01, patience = 3, mode = 'max')\n",
        "\n",
        "callbacks_list = [checkpoint, csv_logger, earlystopping]\n",
        "\n"
      ],
      "execution_count": null,
      "outputs": []
    },
    {
      "cell_type": "markdown",
      "metadata": {
        "id": "nLaXruWWNapK"
      },
      "source": [
        "**Model Architecture**"
      ]
    },
    {
      "cell_type": "code",
      "metadata": {
        "id": "CuEkzgO2y3a_"
      },
      "source": [
        "def get_unet(rows, cols):\n",
        "    inputs = Input((rows, cols, 3))\n",
        "    conv1 = Conv2D(32, (3, 3), activation='relu', padding='same')(inputs)\n",
        "    conv1 = Conv2D(32, (3, 3), activation='relu', padding='same')(conv1)\n",
        "    pool1 = MaxPooling2D(pool_size=(2, 2))(conv1)\n",
        "\n",
        "    conv2 = Conv2D(64, (3, 3), activation='relu', padding='same')(pool1)\n",
        "    conv2 = Conv2D(64, (3, 3), activation='relu', padding='same')(conv2)\n",
        "    pool2 = MaxPooling2D(pool_size=(2, 2))(conv2)\n",
        "\n",
        "    conv3 = Conv2D(128, (3, 3), activation='relu', padding='same')(pool2)\n",
        "    conv3 = Conv2D(128, (3, 3), activation='relu', padding='same')(conv3)\n",
        "    pool3 = MaxPooling2D(pool_size=(2, 2))(conv3)\n",
        "\n",
        "    conv4 = Conv2D(256, (3, 3), activation='relu', padding='same')(pool3)\n",
        "    conv4 = Conv2D(256, (3, 3), activation='relu', padding='same')(conv4)\n",
        "    pool4 = MaxPooling2D(pool_size=(2, 2))(conv4)\n",
        "\n",
        "    conv5 = Conv2D(512, (3, 3), activation='relu', padding='same')(pool4)\n",
        "    conv5 = Conv2D(512, (3, 3), activation='relu', padding='same')(conv5)\n",
        "\n",
        "    up6 = concatenate([Conv2DTranspose(256, (2, 2), strides=(2, 2), padding='same')(conv5), conv4], axis=3)\n",
        "    conv6 = Conv2D(256, (3, 3), activation='relu', padding='same')(up6)\n",
        "    conv6 = Conv2D(256, (3, 3), activation='relu', padding='same')(conv6)\n",
        "\n",
        "    up7 = concatenate([Conv2DTranspose(128, (2, 2), strides=(2, 2), padding='same')(conv6), conv3], axis=3)\n",
        "    conv7 = Conv2D(128, (3, 3), activation='relu', padding='same')(up7)\n",
        "    conv7 = Conv2D(128, (3, 3), activation='relu', padding='same')(conv7)\n",
        "\n",
        "    up8 = concatenate([Conv2DTranspose(64, (2, 2), strides=(2, 2), padding='same')(conv7), conv2], axis=3)\n",
        "    conv8 = Conv2D(64, (3, 3), activation='relu', padding='same')(up8)\n",
        "    conv8 = Conv2D(64, (3, 3), activation='relu', padding='same')(conv8)\n",
        "\n",
        "    up9 = concatenate([Conv2DTranspose(32, (2, 2), strides=(2, 2), padding='same')(conv8), conv1], axis=3)\n",
        "    conv9 = Conv2D(32, (3, 3), activation='relu', padding='same')(up9)\n",
        "    conv9 = Conv2D(32, (3, 3), activation='relu', padding='same')(conv9)\n",
        "\n",
        "    conv10 = Conv2D(1, (1, 1), activation='sigmoid')(conv9)\n",
        "\n",
        "    model = Model(inputs=[inputs], outputs=[conv10])\n",
        "    model.compile(optimizer=Adam(lr=1e-5), loss = 'binary_crossentropy')\n",
        "\n",
        "    return model\n"
      ],
      "execution_count": null,
      "outputs": []
    },
    {
      "cell_type": "code",
      "metadata": {
        "id": "FpuNurFK5Aku",
        "colab": {
          "base_uri": "https://localhost:8080/",
          "height": 1321
        },
        "outputId": "45c428fc-24ee-4e32-eaef-f2fede1c8a6c"
      },
      "source": [
        "m = get_unet(SIZE, SIZE)\n",
        "m.summary()"
      ],
      "execution_count": null,
      "outputs": [
        {
          "output_type": "stream",
          "text": [
            "WARNING:tensorflow:From /usr/local/lib/python3.6/dist-packages/tensorflow/python/framework/op_def_library.py:263: colocate_with (from tensorflow.python.framework.ops) is deprecated and will be removed in a future version.\n",
            "Instructions for updating:\n",
            "Colocations handled automatically by placer.\n",
            "__________________________________________________________________________________________________\n",
            "Layer (type)                    Output Shape         Param #     Connected to                     \n",
            "==================================================================================================\n",
            "input_1 (InputLayer)            (None, 512, 512, 3)  0                                            \n",
            "__________________________________________________________________________________________________\n",
            "conv2d_1 (Conv2D)               (None, 512, 512, 32) 896         input_1[0][0]                    \n",
            "__________________________________________________________________________________________________\n",
            "conv2d_2 (Conv2D)               (None, 512, 512, 32) 9248        conv2d_1[0][0]                   \n",
            "__________________________________________________________________________________________________\n",
            "max_pooling2d_1 (MaxPooling2D)  (None, 256, 256, 32) 0           conv2d_2[0][0]                   \n",
            "__________________________________________________________________________________________________\n",
            "conv2d_3 (Conv2D)               (None, 256, 256, 64) 18496       max_pooling2d_1[0][0]            \n",
            "__________________________________________________________________________________________________\n",
            "conv2d_4 (Conv2D)               (None, 256, 256, 64) 36928       conv2d_3[0][0]                   \n",
            "__________________________________________________________________________________________________\n",
            "max_pooling2d_2 (MaxPooling2D)  (None, 128, 128, 64) 0           conv2d_4[0][0]                   \n",
            "__________________________________________________________________________________________________\n",
            "conv2d_5 (Conv2D)               (None, 128, 128, 128 73856       max_pooling2d_2[0][0]            \n",
            "__________________________________________________________________________________________________\n",
            "conv2d_6 (Conv2D)               (None, 128, 128, 128 147584      conv2d_5[0][0]                   \n",
            "__________________________________________________________________________________________________\n",
            "max_pooling2d_3 (MaxPooling2D)  (None, 64, 64, 128)  0           conv2d_6[0][0]                   \n",
            "__________________________________________________________________________________________________\n",
            "conv2d_7 (Conv2D)               (None, 64, 64, 256)  295168      max_pooling2d_3[0][0]            \n",
            "__________________________________________________________________________________________________\n",
            "conv2d_8 (Conv2D)               (None, 64, 64, 256)  590080      conv2d_7[0][0]                   \n",
            "__________________________________________________________________________________________________\n",
            "max_pooling2d_4 (MaxPooling2D)  (None, 32, 32, 256)  0           conv2d_8[0][0]                   \n",
            "__________________________________________________________________________________________________\n",
            "conv2d_9 (Conv2D)               (None, 32, 32, 512)  1180160     max_pooling2d_4[0][0]            \n",
            "__________________________________________________________________________________________________\n",
            "conv2d_10 (Conv2D)              (None, 32, 32, 512)  2359808     conv2d_9[0][0]                   \n",
            "__________________________________________________________________________________________________\n",
            "conv2d_transpose_1 (Conv2DTrans (None, 64, 64, 256)  524544      conv2d_10[0][0]                  \n",
            "__________________________________________________________________________________________________\n",
            "concatenate_1 (Concatenate)     (None, 64, 64, 512)  0           conv2d_transpose_1[0][0]         \n",
            "                                                                 conv2d_8[0][0]                   \n",
            "__________________________________________________________________________________________________\n",
            "conv2d_11 (Conv2D)              (None, 64, 64, 256)  1179904     concatenate_1[0][0]              \n",
            "__________________________________________________________________________________________________\n",
            "conv2d_12 (Conv2D)              (None, 64, 64, 256)  590080      conv2d_11[0][0]                  \n",
            "__________________________________________________________________________________________________\n",
            "conv2d_transpose_2 (Conv2DTrans (None, 128, 128, 128 131200      conv2d_12[0][0]                  \n",
            "__________________________________________________________________________________________________\n",
            "concatenate_2 (Concatenate)     (None, 128, 128, 256 0           conv2d_transpose_2[0][0]         \n",
            "                                                                 conv2d_6[0][0]                   \n",
            "__________________________________________________________________________________________________\n",
            "conv2d_13 (Conv2D)              (None, 128, 128, 128 295040      concatenate_2[0][0]              \n",
            "__________________________________________________________________________________________________\n",
            "conv2d_14 (Conv2D)              (None, 128, 128, 128 147584      conv2d_13[0][0]                  \n",
            "__________________________________________________________________________________________________\n",
            "conv2d_transpose_3 (Conv2DTrans (None, 256, 256, 64) 32832       conv2d_14[0][0]                  \n",
            "__________________________________________________________________________________________________\n",
            "concatenate_3 (Concatenate)     (None, 256, 256, 128 0           conv2d_transpose_3[0][0]         \n",
            "                                                                 conv2d_4[0][0]                   \n",
            "__________________________________________________________________________________________________\n",
            "conv2d_15 (Conv2D)              (None, 256, 256, 64) 73792       concatenate_3[0][0]              \n",
            "__________________________________________________________________________________________________\n",
            "conv2d_16 (Conv2D)              (None, 256, 256, 64) 36928       conv2d_15[0][0]                  \n",
            "__________________________________________________________________________________________________\n",
            "conv2d_transpose_4 (Conv2DTrans (None, 512, 512, 32) 8224        conv2d_16[0][0]                  \n",
            "__________________________________________________________________________________________________\n",
            "concatenate_4 (Concatenate)     (None, 512, 512, 64) 0           conv2d_transpose_4[0][0]         \n",
            "                                                                 conv2d_2[0][0]                   \n",
            "__________________________________________________________________________________________________\n",
            "conv2d_17 (Conv2D)              (None, 512, 512, 32) 18464       concatenate_4[0][0]              \n",
            "__________________________________________________________________________________________________\n",
            "conv2d_18 (Conv2D)              (None, 512, 512, 32) 9248        conv2d_17[0][0]                  \n",
            "__________________________________________________________________________________________________\n",
            "conv2d_19 (Conv2D)              (None, 512, 512, 1)  33          conv2d_18[0][0]                  \n",
            "==================================================================================================\n",
            "Total params: 7,760,097\n",
            "Trainable params: 7,760,097\n",
            "Non-trainable params: 0\n",
            "__________________________________________________________________________________________________\n"
          ],
          "name": "stdout"
        }
      ]
    },
    {
      "cell_type": "markdown",
      "metadata": {
        "id": "mfhpqDA7NgOe"
      },
      "source": [
        "**Training**"
      ]
    },
    {
      "cell_type": "code",
      "metadata": {
        "id": "GN64MURYwpL3",
        "colab": {
          "base_uri": "https://localhost:8080/",
          "height": 1019
        },
        "outputId": "3ea5e5aa-80fb-4b25-ddf1-09f79c6eafaa"
      },
      "source": [
        "#started at 9.50 am\n",
        "results = m.fit_generator(train_gen, epochs=NO_OF_EPOCHS, \n",
        "                          steps_per_epoch = (NO_OF_TRAINING_IMAGES//BATCH_SIZE),\n",
        "                          validation_data=val_gen, \n",
        "                          validation_steps=(NO_OF_VAL_IMAGES//BATCH_SIZE) \n",
        "                          )\n",
        "\n",
        "\n",
        "import datetime\n",
        "s = 'MODEL_EPOCHS = ' + str(NO_OF_EPOCHS) + '_TRAINING IMAGES = ' + str(NO_OF_TRAINING_IMAGES) + '_' + str(datetime.datetime.now())  +'.h5' \n",
        "m.save(s)\n",
        "m.save('/content/drive/My Drive/99_final_epochs_trained_model.h5')"
      ],
      "execution_count": null,
      "outputs": [
        {
          "output_type": "stream",
          "text": [
            "WARNING:tensorflow:From /usr/local/lib/python3.6/dist-packages/tensorflow/python/ops/math_ops.py:3066: to_int32 (from tensorflow.python.ops.math_ops) is deprecated and will be removed in a future version.\n",
            "Instructions for updating:\n",
            "Use tf.cast instead.\n",
            "Epoch 1/99\n",
            "277/277 [==============================] - 2861s 10s/step - loss: 0.4457 - val_loss: 0.2352\n",
            "Epoch 2/99\n",
            "277/277 [==============================] - 2858s 10s/step - loss: 0.2200 - val_loss: 0.2132\n",
            "Epoch 3/99\n",
            "277/277 [==============================] - 179s 647ms/step - loss: 0.1854 - val_loss: 0.1778\n",
            "Epoch 4/99\n",
            "277/277 [==============================] - 184s 666ms/step - loss: 0.1784 - val_loss: 0.1722\n",
            "Epoch 5/99\n",
            "277/277 [==============================] - 185s 669ms/step - loss: 0.1756 - val_loss: 0.1741\n",
            "Epoch 6/99\n",
            "277/277 [==============================] - 186s 670ms/step - loss: 0.1713 - val_loss: 0.1651\n",
            "Epoch 7/99\n",
            "277/277 [==============================] - 185s 669ms/step - loss: 0.1692 - val_loss: 0.1653\n",
            "Epoch 8/99\n",
            "277/277 [==============================] - 185s 670ms/step - loss: 0.1690 - val_loss: 0.1576\n",
            "Epoch 9/99\n",
            "277/277 [==============================] - 186s 670ms/step - loss: 0.1615 - val_loss: 0.1402\n",
            "Epoch 10/99\n",
            "277/277 [==============================] - 186s 670ms/step - loss: 0.1635 - val_loss: 0.1603\n",
            "Epoch 11/99\n",
            "277/277 [==============================] - 186s 670ms/step - loss: 0.1584 - val_loss: 0.1469\n",
            "Epoch 12/99\n",
            "277/277 [==============================] - 186s 671ms/step - loss: 0.1540 - val_loss: 0.1387\n",
            "Epoch 13/99\n",
            "277/277 [==============================] - 186s 671ms/step - loss: 0.1523 - val_loss: 0.1404\n",
            "Epoch 14/99\n",
            "277/277 [==============================] - 186s 672ms/step - loss: 0.1490 - val_loss: 0.1318\n",
            "Epoch 15/99\n",
            "277/277 [==============================] - 186s 672ms/step - loss: 0.1494 - val_loss: 0.1350\n",
            "Epoch 16/99\n",
            "277/277 [==============================] - 186s 673ms/step - loss: 0.1428 - val_loss: 0.1265\n",
            "Epoch 17/99\n",
            "277/277 [==============================] - 186s 671ms/step - loss: 0.1452 - val_loss: 0.1213\n",
            "Epoch 18/99\n",
            "277/277 [==============================] - 186s 673ms/step - loss: 0.1394 - val_loss: 0.1306\n",
            "Epoch 19/99\n",
            "277/277 [==============================] - 186s 673ms/step - loss: 0.1384 - val_loss: 0.1205\n",
            "Epoch 20/99\n",
            "277/277 [==============================] - 186s 672ms/step - loss: 0.1376 - val_loss: 0.1191\n",
            "Epoch 21/99\n",
            "146/277 [==============>...............] - ETA: 1:26 - loss: 0.1384"
          ],
          "name": "stdout"
        }
      ]
    },
    {
      "cell_type": "markdown",
      "metadata": {
        "id": "zr1cznzEQiKz"
      },
      "source": [
        "**Prediction**"
      ]
    },
    {
      "cell_type": "code",
      "metadata": {
        "id": "bycWFEqxinWO",
        "colab": {
          "base_uri": "https://localhost:8080/",
          "height": 128
        },
        "outputId": "63e814a1-5bb9-4cd5-8e0c-0d700e909a10"
      },
      "source": [
        "new_model = load_model('/content/drive/My Drive/40_final_trained_model.h5')"
      ],
      "execution_count": null,
      "outputs": [
        {
          "output_type": "stream",
          "text": [
            "WARNING:tensorflow:From /usr/local/lib/python3.6/dist-packages/tensorflow/python/ops/math_ops.py:3066: to_int32 (from tensorflow.python.ops.math_ops) is deprecated and will be removed in a future version.\n",
            "Instructions for updating:\n",
            "Use tf.cast instead.\n"
          ],
          "name": "stdout"
        }
      ]
    },
    {
      "cell_type": "code",
      "metadata": {
        "id": "QOmEKSfs8UF5",
        "colab": {
          "base_uri": "https://localhost:8080/",
          "height": 34
        },
        "outputId": "3a616002-e7e6-4075-c5d4-d8412ecdd9a5"
      },
      "source": [
        "import cv2\n",
        "\n",
        "test_img = cv2.imread('/content/drive/My Drive/mass_roads/valid/mod_sat/10978795_15_2.tif')/255.\n",
        "test_img =  cv2.resize(test_img, (SIZE, SIZE))\n",
        "test_img.shape"
      ],
      "execution_count": null,
      "outputs": [
        {
          "output_type": "execute_result",
          "data": {
            "text/plain": [
              "(512, 512, 3)"
            ]
          },
          "metadata": {
            "tags": []
          },
          "execution_count": 10
        }
      ]
    },
    {
      "cell_type": "code",
      "metadata": {
        "id": "WJHypxNfAIK8",
        "colab": {
          "base_uri": "https://localhost:8080/",
          "height": 34
        },
        "outputId": "c864402e-2318-4e06-d8ee-707c9fb0d089"
      },
      "source": [
        "test_img = np.array([test_img])\n",
        "test_img.shape"
      ],
      "execution_count": null,
      "outputs": [
        {
          "output_type": "execute_result",
          "data": {
            "text/plain": [
              "(1, 512, 512, 3)"
            ]
          },
          "metadata": {
            "tags": []
          },
          "execution_count": 11
        }
      ]
    },
    {
      "cell_type": "code",
      "metadata": {
        "id": "15YZN6NC5y10"
      },
      "source": [
        "#Cslling the predict function on Numpy Image Array\n",
        "b = new_model.predict(test_img, batch_size = None, verbose = 0, steps = None)\n"
      ],
      "execution_count": null,
      "outputs": []
    },
    {
      "cell_type": "code",
      "metadata": {
        "id": "OkPt2Vd6Btbn",
        "colab": {
          "base_uri": "https://localhost:8080/",
          "height": 850
        },
        "outputId": "5359db78-90ae-4c28-a047-c385308816fe"
      },
      "source": [
        " data = b[0]*255\n",
        "data = np.floor(data)\n",
        "print(data)\n",
        "data = np.squeeze(data, axis=(2,))"
      ],
      "execution_count": null,
      "outputs": [
        {
          "output_type": "stream",
          "text": [
            "[[[66.]\n",
            "  [50.]\n",
            "  [34.]\n",
            "  ...\n",
            "  [28.]\n",
            "  [38.]\n",
            "  [75.]]\n",
            "\n",
            " [[49.]\n",
            "  [25.]\n",
            "  [16.]\n",
            "  ...\n",
            "  [ 7.]\n",
            "  [17.]\n",
            "  [42.]]\n",
            "\n",
            " [[31.]\n",
            "  [16.]\n",
            "  [ 8.]\n",
            "  ...\n",
            "  [ 4.]\n",
            "  [ 7.]\n",
            "  [26.]]\n",
            "\n",
            " ...\n",
            "\n",
            " [[45.]\n",
            "  [39.]\n",
            "  [31.]\n",
            "  ...\n",
            "  [ 2.]\n",
            "  [ 7.]\n",
            "  [24.]]\n",
            "\n",
            " [[62.]\n",
            "  [62.]\n",
            "  [42.]\n",
            "  ...\n",
            "  [ 7.]\n",
            "  [11.]\n",
            "  [33.]]\n",
            "\n",
            " [[88.]\n",
            "  [68.]\n",
            "  [57.]\n",
            "  ...\n",
            "  [20.]\n",
            "  [29.]\n",
            "  [64.]]]\n"
          ],
          "name": "stdout"
        }
      ]
    },
    {
      "cell_type": "code",
      "metadata": {
        "id": "SHI1lRoCgTKo",
        "colab": {
          "base_uri": "https://localhost:8080/",
          "height": 136
        },
        "outputId": "1c91ef34-1467-464c-b68f-423c1b97053f"
      },
      "source": [
        "#Thresholding\n",
        "data_threshold = (data > 35)*1\n",
        "data_threshold.astype(np.int)\n",
        "data_threshold = data_threshold*255\n",
        "print (data_threshold)\n",
        "\n",
        "\n",
        "\n",
        "\n"
      ],
      "execution_count": null,
      "outputs": [
        {
          "output_type": "stream",
          "text": [
            "[[255 255   0 ...   0 255 255]\n",
            " [255   0   0 ...   0   0 255]\n",
            " [  0   0   0 ...   0   0   0]\n",
            " ...\n",
            " [255 255   0 ...   0   0   0]\n",
            " [255 255 255 ...   0   0   0]\n",
            " [255 255 255 ...   0   0 255]]\n"
          ],
          "name": "stdout"
        }
      ]
    },
    {
      "cell_type": "code",
      "metadata": {
        "id": "gy7HdAjDAqbN",
        "colab": {
          "base_uri": "https://localhost:8080/",
          "height": 269
        },
        "outputId": "fe254592-70aa-4926-ee39-03278ee8490c"
      },
      "source": [
        "%matplotlib inline\n",
        "from matplotlib import pyplot as plt\n",
        "plt.imshow(data)\n",
        "plt.show()\n"
      ],
      "execution_count": null,
      "outputs": [
        {
          "output_type": "display_data",
          "data": {
            "image/png": "[encoded data removed]",
            "text/plain": [
              "<Figure size 432x288 with 1 Axes>"
            ]
          },
          "metadata": {
            "tags": []
          }
        }
      ]
    },
    {
      "cell_type": "code",
      "metadata": {
        "id": "aIJMh0BoKIig",
        "colab": {
          "base_uri": "https://localhost:8080/",
          "height": 269
        },
        "outputId": "23493e9f-964c-4b6b-f9f2-192875d31ce2"
      },
      "source": [
        "plt.imshow(data_threshold)\n",
        "plt.show()"
      ],
      "execution_count": null,
      "outputs": [
        {
          "output_type": "display_data",
          "data": {
            "image/png": "[encoded data removed]",
            "text/plain": [
              "<Figure size 432x288 with 1 Axes>"
            ]
          },
          "metadata": {
            "tags": []
          }
        }
      ]
    }
  ]
}